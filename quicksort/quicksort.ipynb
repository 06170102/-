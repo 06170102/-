{
 "cells": [
  {
   "cell_type": "code",
   "execution_count": 1,
   "metadata": {},
   "outputs": [],
   "source": [
    "def quicksort(list):                  #定義quicksort，如果List長度小於1，直接回傳List，因為這表示LIST裡沒有元素\n",
    "    if len(list) <= 1:\n",
    "        return list\n",
    "    else:\n",
    "        pivot=list[-1]                #基準點pivot設為list裡最後一個元素，且設計三段空的list以便於分類\n",
    "        head=[]\n",
    "        middle=[]\n",
    "        tail=[]\n",
    "        for num in list:              #設計迴圈，list裡的元素進行比較，當NUM大於基準點裝入HEAD的LIST，當NUM等於基準點裝入middle的LIST\n",
    "            if num>pivot:\n",
    "                head.append(num)\n",
    "            elif num==pivot: \n",
    "                middle.append(num)\n",
    "            else:                     #NUM小於基準點裝入TAIL的list\n",
    "                tail.append(num)\n",
    "    return quicksort(tail)+ middle+ quicksort(head)  #由於三個新list裡的元素尚未進行排列，於是用QUICKSORT()再分類一次，並將其連接"
   ]
  },
  {
   "cell_type": "code",
   "execution_count": 2,
   "metadata": {},
   "outputs": [
    {
     "data": {
      "text/plain": [
       "[1, 5, 6, 19, 20]"
      ]
     },
     "execution_count": 2,
     "metadata": {},
     "output_type": "execute_result"
    }
   ],
   "source": [
    "quicksort([1,5,20,6,19])"
   ]
  },
  {
   "cell_type": "code",
   "execution_count": null,
   "metadata": {},
   "outputs": [],
   "source": []
  }
 ],
 "metadata": {
  "kernelspec": {
   "display_name": "Python 3",
   "language": "python",
   "name": "python3"
  },
  "language_info": {
   "codemirror_mode": {
    "name": "ipython",
    "version": 3
   },
   "file_extension": ".py",
   "mimetype": "text/x-python",
   "name": "python",
   "nbconvert_exporter": "python",
   "pygments_lexer": "ipython3",
   "version": "3.7.3"
  }
 },
 "nbformat": 4,
 "nbformat_minor": 2
}
