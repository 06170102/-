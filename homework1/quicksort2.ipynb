{
 "cells": [
  {
   "cell_type": "markdown",
   "metadata": {},
   "source": [
    "方法一:一開始想用遞迴來做出Quicksort，但是了幾次都不成功，於是向朋友求救，他給我看http://jialin128.pixnet.net/blog/post/142927691-%5B-%E8%B3%87%E6%96%99%E7%B5%90%E6%A7%8B-%5D-%E5%BF%AB%E9%80%9F%E6%8E%92%E5%BA%8F%E6%B3%95%EF%BC%88quick-sort%EF%BC%89in-python 來做為參考，弄懂了概念後寫出了方法一"
   ]
  },
  {
   "cell_type": "code",
   "execution_count": null,
   "metadata": {},
   "outputs": [],
   "source": [
    "def quicksort(list):                  #定義quicksort，如果List長度小於1，直接回傳List，因為這表示LIST裡沒有元素\n",
    "    if len(list) <= 1:\n",
    "        return list\n",
    "    else:\n",
    "        pivot=list[-1]                #基準點pivot設為list裡最後一個元素，且設計三段空的list以便於分類\n",
    "        head=[]\n",
    "        middle=[]\n",
    "        tail=[]\n",
    "        for num in list:              #設計迴圈，list裡的元素進行比較，當NUM大於基準點裝入HEAD的LIST，當NUM等於基準點裝入middle的LIST\n",
    "            if num>pivot:\n",
    "                head.append(num)\n",
    "            elif num==pivot: \n",
    "                middle.append(num)\n",
    "            else:                     #NUM小於基準點裝入TAIL的list\n",
    "                tail.append(num)\n",
    "                \n",
    "    return quicksort(tail)+ middle+ quicksort(head)  #由於三個新list裡的元素尚未進行排列，於是用QUICKSORT()再分類一次，並將其連接"
   ]
  },
  {
   "cell_type": "code",
   "execution_count": 4,
   "metadata": {},
   "outputs": [
    {
     "data": {
      "text/plain": [
       "[1, 5, 6, 19, 20]"
      ]
     },
     "execution_count": 4,
     "metadata": {},
     "output_type": "execute_result"
    }
   ],
   "source": [
    "quicksort([1,5,20,6,19])"
   ]
  },
  {
   "cell_type": "markdown",
   "metadata": {},
   "source": [
    "方法二:網路上大部分用C++的方法，會定義一個partition函式，作用為將資料分割，分為比pivot大，小於pivot，再用QS函式進行遞迴，以此排序，將z方法一帶入partition的概念進行改寫"
   ]
  },
  {
   "cell_type": "code",
   "execution_count": 40,
   "metadata": {},
   "outputs": [
    {
     "name": "stdout",
     "output_type": "stream",
     "text": [
      "[1, 5, 6, 19, 20]\n"
     ]
    }
   ],
   "source": [
    "def quicksort(list):\n",
    "    if len(list)<2:\n",
    "        return list\n",
    "    else:\n",
    "        pivot = list[0]                                #基準點pivot設為list裡第一個元素\n",
    "        i = 0\n",
    "        for num in range(len(list)-1):\n",
    "            if list[num+1] < pivot:            #若當前num+1比pivot小，則num與i互換位置，i+1為小於pivot的最後一位。\n",
    "                list[num+1],list[i+1] = list[i+1], list[num+1]\n",
    "                i += 1\n",
    "        list[0],list[i] = list[i],list[0]     #若num剛好處於pivot的位置，則將pivot插入第一位到最後一位之間\n",
    "        head = quicksort(list[0:i])         #重複呼叫quicksort，將head(從第一個元素到Index_i)重新排序\n",
    "        tail = quicksort(list[i+1:])        #重複呼叫quicksort，將tail(從index_i+1到最後一位)重新排序\n",
    "        head.append(list[i])                #head列表加入list[i](以排序好)\n",
    "        return head + tail\n",
    "\n",
    "alist = [1,5,20,6,19]\n",
    "print(quicksort(alist))"
   ]
  },
  {
   "cell_type": "code",
   "execution_count": null,
   "metadata": {},
   "outputs": [],
   "source": []
  },
  {
   "cell_type": "code",
   "execution_count": null,
   "metadata": {},
   "outputs": [],
   "source": []
  }
 ],
 "metadata": {
  "kernelspec": {
   "display_name": "Python 3",
   "language": "python",
   "name": "python3"
  },
  "language_info": {
   "codemirror_mode": {
    "name": "ipython",
    "version": 3
   },
   "file_extension": ".py",
   "mimetype": "text/x-python",
   "name": "python",
   "nbconvert_exporter": "python",
   "pygments_lexer": "ipython3",
   "version": "3.7.3"
  }
 },
 "nbformat": 4,
 "nbformat_minor": 2
}
